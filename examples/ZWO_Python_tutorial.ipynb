{
 "cells": [
  {
   "cell_type": "markdown",
   "id": "mineral-reform",
   "metadata": {},
   "source": [
    "# Controling ZWO cameras with python"
   ]
  },
  {
   "cell_type": "markdown",
   "id": "coordinate-silicon",
   "metadata": {},
   "source": [
    "## Download the ZWO-ASI drivers and SDK \n",
    "\n",
    "Drivers are here [here](https://astronomy-imaging-camera.com/software-drivers) in Windows/from ZWO/native drivers/ASI cameras\n",
    "\n",
    "The SDK is in Developpers/SDK\n",
    "\n",
    "Move the dll in the folder _ASI SDK\\lib\\x64_ (for 64 bits windows) to one of the following path: (in the _anaconda3_ folder for instance)"
   ]
  },
  {
   "cell_type": "code",
   "execution_count": 1,
   "id": "dense-mercury",
   "metadata": {
    "ExecuteTime": {
     "end_time": "2021-04-01T12:57:22.943117Z",
     "start_time": "2021-04-01T12:57:22.930746Z"
    }
   },
   "outputs": [
    {
     "name": "stdout",
     "output_type": "stream",
     "text": [
<<<<<<< Updated upstream
      "['C:\\\\Users\\\\ebel\\\\ownCloud\\\\LCTS', 'C:\\\\Users\\\\ebel\\\\anaconda3\\\\python37.zip', 'C:\\\\Users\\\\ebel\\\\anaconda3\\\\DLLs', 'C:\\\\Users\\\\ebel\\\\anaconda3\\\\lib', 'C:\\\\Users\\\\ebel\\\\anaconda3', '', 'C:\\\\Users\\\\ebel\\\\anaconda3\\\\lib\\\\site-packages', 'c:\\\\users\\\\ebel\\\\documents\\\\github\\\\campa', 'c:\\\\users\\\\ebel\\\\documents\\\\github\\\\newportespmotion', 'c:\\\\users\\\\ebel\\\\documents\\\\github\\\\imagen', 'c:\\\\users\\\\ebel\\\\documents\\\\github\\\\texnet', 'c:\\\\users\\\\ebel\\\\documents\\\\github\\\\pupp', 'c:\\\\users\\\\ebel\\\\documents\\\\github\\\\pylinkam', 'c:\\\\users\\\\ebel\\\\documents\\\\github\\\\python-zwoasi', 'c:\\\\users\\\\ebel\\\\documents\\\\github\\\\mecatoolbox', 'c:\\\\users\\\\ebel\\\\documents\\\\github\\\\sibc_shcmc', 'c:\\\\users\\\\ebel\\\\documents\\\\github\\\\quanfima', 'c:\\\\users\\\\ebel\\\\documents\\\\github\\\\tomotoolbox', 'C:\\\\Users\\\\ebel\\\\anaconda3\\\\lib\\\\site-packages\\\\locket-0.2.1-py3.7.egg', 'C:\\\\Users\\\\ebel\\\\anaconda3\\\\lib\\\\site-packages\\\\win32', 'C:\\\\Users\\\\ebel\\\\anaconda3\\\\lib\\\\site-packages\\\\win32\\\\lib', 'C:\\\\Users\\\\ebel\\\\anaconda3\\\\lib\\\\site-packages\\\\Pythonwin', 'C:\\\\Users\\\\ebel\\\\anaconda3\\\\lib\\\\site-packages\\\\IPython\\\\extensions', 'C:\\\\Users\\\\ebel\\\\.ipython']\n"
=======
      "['C:\\\\Users\\\\ebel\\\\Documents\\\\GitHub\\\\python-zwoasi\\\\examples', 'C:\\\\Users\\\\ebel\\\\anaconda3\\\\python37.zip', 'C:\\\\Users\\\\ebel\\\\anaconda3\\\\DLLs', 'C:\\\\Users\\\\ebel\\\\anaconda3\\\\lib', 'C:\\\\Users\\\\ebel\\\\anaconda3', '', 'C:\\\\Users\\\\ebel\\\\anaconda3\\\\lib\\\\site-packages', 'c:\\\\users\\\\ebel\\\\documents\\\\github\\\\quanfima', 'c:\\\\users\\\\ebel\\\\documents\\\\github\\\\texnet', 'c:\\\\users\\\\ebel\\\\documents\\\\github\\\\mecatoolbox', 'c:\\\\users\\\\ebel\\\\documents\\\\github\\\\figuretoolbox', 'c:\\\\users\\\\ebel\\\\documents\\\\github\\\\python-zwoasi', 'c:\\\\users\\\\ebel\\\\documents\\\\github\\\\oxidationtoolbox', 'c:\\\\users\\\\ebel\\\\documents\\\\github\\\\sibc_shcmc', 'c:\\\\users\\\\ebel\\\\documents\\\\github\\\\pyomnistar', 'c:\\\\users\\\\ebel\\\\documents\\\\github\\\\pyschott', 'C:\\\\Users\\\\ebel\\\\anaconda3\\\\lib\\\\site-packages\\\\gmsh-4.6.0-Windows64-sdk\\\\lib', 'C:\\\\Users\\\\ebel\\\\anaconda3\\\\lib\\\\site-packages\\\\gmsh-4.6.0-Windows64-sdk\\\\bin', 'C:\\\\Users\\\\ebel\\\\anaconda3\\\\lib\\\\site-packages\\\\win32', 'C:\\\\Users\\\\ebel\\\\anaconda3\\\\lib\\\\site-packages\\\\win32\\\\lib', 'C:\\\\Users\\\\ebel\\\\anaconda3\\\\lib\\\\site-packages\\\\Pythonwin', 'C:\\\\Users\\\\ebel\\\\anaconda3\\\\lib\\\\site-packages\\\\IPython\\\\extensions', 'C:\\\\Users\\\\ebel\\\\.ipython']\n"
>>>>>>> Stashed changes
     ]
    }
   ],
   "source": [
    "import sys\n",
    "print(sys.path)"
   ]
  },
  {
   "cell_type": "markdown",
   "id": "ruled-agriculture",
   "metadata": {},
   "source": [
    "## Install the python-zwoasi package\n",
    "\n",
    "Open Anaconda prompt\n",
    "\n",
    "Go to the folder where you downloaded the package file with the command _cd_\n",
    "\n",
    "then type: \n",
    "```\n",
    "pip install zwoasi-2-py2.py3-none-any.whl\n",
    "```"
   ]
  },
  {
   "cell_type": "markdown",
   "id": "behavioral-airport",
   "metadata": {},
   "source": [
    "## Use the package\n",
    "\n",
    "If the dll file from the SDK has been moved to the correct folder, this command should work: "
   ]
  },
  {
   "cell_type": "code",
   "execution_count": 9,
   "id": "nutritional-insured",
   "metadata": {
    "ExecuteTime": {
     "end_time": "2021-05-21T09:28:55.101724Z",
     "start_time": "2021-05-21T09:28:55.093094Z"
    },
    "scrolled": true
   },
   "outputs": [],
   "source": [
    "import zwoasi as asi"
   ]
  },
  {
   "cell_type": "markdown",
   "id": "fossil-berlin",
   "metadata": {},
   "source": [
    "If any camera from ZWO is connected, the following commands give their number and list their names"
   ]
  },
  {
   "cell_type": "code",
   "execution_count": 10,
   "id": "tribal-making",
   "metadata": {
    "ExecuteTime": {
     "end_time": "2021-05-21T09:28:57.051759Z",
     "start_time": "2021-05-21T09:28:56.890619Z"
    },
    "scrolled": true
   },
   "outputs": [
    {
     "name": "stdout",
     "output_type": "stream",
     "text": [
      "1\n",
      "['ZWO ASI1600MM Pro']\n"
     ]
    }
   ],
   "source": [
    "print(asi.get_num_cameras())\n",
    "print(asi.list_cameras())"
   ]
  },
  {
   "cell_type": "markdown",
   "id": "sixth-volume",
   "metadata": {},
   "source": [
    "These commands give us the chip size of the camera and the supported binning mode "
   ]
  },
  {
   "cell_type": "code",
   "execution_count": 11,
   "id": "israeli-currency",
   "metadata": {
    "ExecuteTime": {
     "end_time": "2021-05-21T09:29:01.618200Z",
     "start_time": "2021-05-21T09:28:58.018057Z"
    },
    "scrolled": false
   },
   "outputs": [
    {
     "name": "stdout",
     "output_type": "stream",
     "text": [
      "camera  0\n",
      "MaxWidth:  4656\n",
      "MaxHeight:  3520\n",
      "SupportedBins:  [1, 2, 3, 4]\n"
     ]
    }
   ],
   "source": [
    "for i in range(asi.get_num_cameras()):\n",
    "    print('camera ', i)\n",
    "    print('MaxWidth: ', asi.Camera(i).get_camera_property()['MaxWidth'])\n",
    "    print('MaxHeight: ', asi.Camera(i).get_camera_property()['MaxHeight'])\n",
    "    print('SupportedBins: ', asi.Camera(i).get_camera_property()['SupportedBins'])"
   ]
  },
  {
   "cell_type": "markdown",
   "id": "geographic-equivalent",
   "metadata": {},
   "source": [
    "Check if the cam is a cooled cam"
   ]
  },
  {
   "cell_type": "code",
   "execution_count": 12,
   "id": "bored-carpet",
   "metadata": {
    "ExecuteTime": {
     "end_time": "2021-05-21T09:29:02.817681Z",
     "start_time": "2021-05-21T09:29:01.626305Z"
    }
   },
   "outputs": [
    {
     "name": "stdout",
     "output_type": "stream",
     "text": [
      "camera  0\n",
      "IsCooledCam : True\n"
     ]
    }
   ],
   "source": [
    "for i in range(asi.get_num_cameras()):\n",
    "    print('camera ', i)\n",
    "    print('IsCooledCam :', asi.Camera(i).get_camera_property()['IsCoolerCam'])"
   ]
  },
  {
   "cell_type": "markdown",
   "id": "rural-shipping",
   "metadata": {},
   "source": [
    "Check if the camera are connected with USB3 "
   ]
  },
  {
   "cell_type": "code",
   "execution_count": 13,
   "id": "grateful-creature",
   "metadata": {
    "ExecuteTime": {
     "end_time": "2021-05-21T09:29:05.234958Z",
     "start_time": "2021-05-21T09:29:02.826727Z"
    },
    "scrolled": true
   },
   "outputs": [
    {
     "name": "stdout",
     "output_type": "stream",
     "text": [
      "camera  0\n",
      "IsUSB3Camera : True\n",
      "IsUSB3Host : True\n"
     ]
    }
   ],
   "source": [
    "for i in range(asi.get_num_cameras()):\n",
    "    print('camera ', i)\n",
    "    print('IsUSB3Camera :', asi.Camera(i).get_camera_property()['IsUSB3Camera'])\n",
    "    print('IsUSB3Host :', asi.Camera(i).get_camera_property()['IsUSB3Host'])"
   ]
  },
  {
   "cell_type": "markdown",
   "id": "growing-render",
   "metadata": {},
   "source": [
    "Check if the camera is a triggered cam"
   ]
  },
  {
   "cell_type": "code",
   "execution_count": 14,
   "id": "municipal-lyric",
   "metadata": {
    "ExecuteTime": {
     "end_time": "2021-05-21T09:29:07.623106Z",
     "start_time": "2021-05-21T09:29:05.243470Z"
    }
   },
   "outputs": [
    {
     "name": "stdout",
     "output_type": "stream",
     "text": [
      "camera  0\n",
      "IsTriggerCam : 0\n",
      "Supported modes : {'SupportedCameraMode': [0, -1, 0, 0, 0, 0, 0, 0, 0, 0, 0, 0, 0, 0, 0, 0]}\n"
     ]
    }
   ],
   "source": [
    "for i in range(asi.get_num_cameras()):\n",
    "    print('camera ', i)\n",
    "    print('IsTriggerCam :', asi.Camera(i).get_camera_property()['IsTriggerCam'])\n",
    "    print('Supported modes :', asi.Camera(i).get_camera_support_mode())"
   ]
  },
  {
   "cell_type": "markdown",
   "id": "reliable-powder",
   "metadata": {},
   "source": []
  },
  {
   "cell_type": "markdown",
   "id": "expected-evening",
   "metadata": {},
   "source": [
    "# Single camera test\n",
    "\n",
    "The package comes with built-in user interfaces that can be imported from the _Pyqt_App_ module"
   ]
  },
  {
   "cell_type": "code",
   "execution_count": 1,
   "id": "bottom-generator",
   "metadata": {
    "ExecuteTime": {
     "end_time": "2021-05-25T09:36:08.601233Z",
     "start_time": "2021-05-25T09:36:07.616552Z"
    },
    "scrolled": true
   },
   "outputs": [],
   "source": [
    "from zwoasi.Pyqt_App import ZwoDisplayAdvanced, ZwoDisplay2"
   ]
  },
  {
   "cell_type": "code",
   "execution_count": 2,
   "id": "9186c8f4-1799-4084-a3b2-1539632caa3b",
   "metadata": {},
   "outputs": [
    {
     "name": "stdout",
     "output_type": "stream",
     "text": [
      "initialization\n"
     ]
    }
   ],
   "source": [
    "ZwoDisplay2(cam_id = 0)"
   ]
  },
  {
   "cell_type": "markdown",
   "id": "worldwide-still",
   "metadata": {},
   "source": [
    "For a single camera, _ZwoDisplayAdvanced_ is the best option. \n",
    "\n",
    "Parameters \n",
    "- _cam_id_ is the camera ID, if only one camera is connected it is 0. \n",
    "- _w_ is the width of the recorded image\n",
    "- _h_ the height of the recorded image\n",
    "- _b_ is the binning mode\n",
    "\n",
    "Any width and height larger than possible for a given binning mode will result in the maximum image size for this binning mode. "
   ]
  },
  {
   "cell_type": "code",
   "execution_count": null,
   "id": "dangerous-dominican",
   "metadata": {
    "ExecuteTime": {
     "end_time": "2021-05-25T09:36:54.920750Z",
     "start_time": "2021-05-25T09:36:08.671204Z"
    }
   },
   "outputs": [
    {
     "name": "stdout",
     "output_type": "stream",
     "text": [
      "initialization\n",
      "Library already initialized\n"
     ]
    }
   ],
   "source": [
    "ZwoDisplayAdvanced(cam_id=0, w = 5000,  h= 5000, b = 2 , verbose = True)"
   ]
  },
  {
   "cell_type": "markdown",
   "id": "limited-comfort",
   "metadata": {},
   "source": [
    "# Two cameras test\n",
    "\n",
    "Another user interface from the _Pyqt_App_ module, _ZwoTwoCam_, let the user display two camera at the same time with independant settings for each one. "
   ]
  },
  {
   "cell_type": "code",
   "execution_count": 1,
   "id": "limited-bleeding",
   "metadata": {
    "ExecuteTime": {
     "end_time": "2021-04-01T15:37:52.872771Z",
     "start_time": "2021-04-01T15:37:52.867725Z"
    },
    "scrolled": true
   },
   "outputs": [],
   "source": [
    "from zwoasi.Pyqt_App import ZwoTwoCam"
   ]
  },
  {
   "cell_type": "markdown",
   "id": "engaging-eight",
   "metadata": {},
   "source": [
    "Parameters are the same as previously except for _cam_id_. It is assumed that only two cameras are connected to the computer. \n",
    "\n",
    "Due to limited USB bandwidth, it is possible that one camera suffers from lag and lower framerate in comparison with the first one. "
   ]
  },
  {
   "cell_type": "code",
   "execution_count": 14,
   "id": "animated-andrew",
   "metadata": {
    "ExecuteTime": {
     "end_time": "2021-04-01T15:38:58.458135Z",
     "start_time": "2021-04-01T15:37:54.616119Z"
    }
   },
   "outputs": [
    {
     "name": "stdout",
     "output_type": "stream",
     "text": [
      "trying to close properly\n",
      "stopping camera 1\n",
      "stopping camera 2\n"
     ]
    }
   ],
   "source": [
    "ZwoTwoCam(w= 5000, h = 5000, b = 2)"
   ]
  },
  {
   "cell_type": "markdown",
   "id": "069fde41-f4c3-46aa-817b-8479c7a16868",
   "metadata": {},
   "source": [
    "# EFW "
   ]
  },
  {
   "cell_type": "code",
   "execution_count": 1,
   "id": "fbdb617f-f469-4285-9cd6-fc13b764d393",
   "metadata": {
    "tags": []
   },
   "outputs": [],
   "source": [
    "from zwoasi import EFW, SingleMiniEFW"
   ]
  },
  {
   "cell_type": "code",
   "execution_count": 3,
   "id": "3bff9f42-16ec-427a-a738-62d9f14da9e8",
   "metadata": {},
   "outputs": [],
   "source": [
    "wheel = SingleMiniEFW('EFW_filter.dll')"
   ]
  },
  {
   "cell_type": "code",
   "execution_count": 4,
   "id": "912da25c-c8eb-4a65-9d29-d3cc569d9937",
   "metadata": {},
   "outputs": [],
   "source": [
    "wheel.SetColor('L')"
   ]
  },
  {
   "cell_type": "code",
   "execution_count": 5,
   "id": "bc4ef73a-1dec-4a4c-bb9a-0c16e44690af",
   "metadata": {},
   "outputs": [],
   "source": [
    "wheel.Close()"
   ]
  },
  {
   "cell_type": "code",
   "execution_count": 6,
   "id": "444f60c5-c781-4cc4-a0b8-345b71b40e50",
   "metadata": {},
   "outputs": [
    {
     "data": {
      "text/plain": [
       "1"
      ]
     },
     "execution_count": 6,
     "metadata": {},
     "output_type": "execute_result"
    }
   ],
   "source": [
    "wheel.GetNum()"
   ]
  },
  {
   "cell_type": "code",
   "execution_count": 9,
   "id": "f3de227e-74cb-4a1f-8d19-8142456f141f",
   "metadata": {},
   "outputs": [
    {
     "name": "stdout",
     "output_type": "stream",
     "text": [
      "empty\n",
      "R\n",
      "G\n",
      "B\n",
      "L\n"
     ]
    }
   ],
   "source": [
    "for n in wheel.FiltersSlots[0]: \n",
    "    print(n)"
   ]
  },
  {
   "cell_type": "code",
   "execution_count": 7,
   "id": "1fb713a4-545d-4e14-bb05-77e6aec04368",
   "metadata": {},
   "outputs": [
    {
     "name": "stdout",
     "output_type": "stream",
     "text": [
      "0\n"
     ]
    }
   ],
   "source": [
    "ID = wheel.GetID(0)\n",
    "print(ID)"
   ]
  },
  {
   "cell_type": "code",
   "execution_count": 8,
   "id": "c64f936f-d95c-4364-800a-e8a8ecec42d2",
   "metadata": {},
   "outputs": [],
   "source": [
    "wheel.Open(ID)"
   ]
  },
  {
   "cell_type": "code",
   "execution_count": 10,
   "id": "b86f9695-fd5a-429f-b872-4d2e99ed2f95",
   "metadata": {},
   "outputs": [],
   "source": [
    "props = wheel.GetProperty(ID)"
   ]
  },
  {
   "cell_type": "code",
   "execution_count": 11,
   "id": "6e4897d7-b197-4b91-b2b5-de3d9f78b52d",
   "metadata": {},
   "outputs": [
    {
     "data": {
      "text/plain": [
       "5"
      ]
     },
     "execution_count": 11,
     "metadata": {},
     "output_type": "execute_result"
    }
   ],
   "source": [
    "props['slotNum']"
   ]
  },
  {
   "cell_type": "code",
   "execution_count": 12,
   "id": "4ee176a4-3013-44bf-a46f-61d948ec7acb",
   "metadata": {},
   "outputs": [
    {
     "data": {
      "text/plain": [
       "0"
      ]
     },
     "execution_count": 12,
     "metadata": {},
     "output_type": "execute_result"
    }
   ],
   "source": [
    "wheel.GetPosition(ID)"
   ]
  },
  {
   "cell_type": "code",
   "execution_count": 8,
   "id": "b4f8ce64-38fa-4a33-acd1-77d3de65bda9",
   "metadata": {},
   "outputs": [],
   "source": [
    "wheel.Close(0)"
   ]
  },
  {
   "cell_type": "code",
   "execution_count": 19,
   "id": "89015346-340f-4fa9-99ea-164a0692e559",
   "metadata": {},
   "outputs": [],
   "source": [
    "wheel.Calibrate(ID)"
   ]
  },
  {
   "cell_type": "code",
   "execution_count": 29,
   "id": "c5c06989-56ea-4777-9dc7-8c60c820182e",
   "metadata": {},
   "outputs": [
    {
     "data": {
      "text/plain": [
       "0"
      ]
     },
     "execution_count": 29,
     "metadata": {},
     "output_type": "execute_result"
    }
   ],
   "source": [
    "wheel.GetPosition(ID)"
   ]
  },
  {
   "cell_type": "code",
   "execution_count": 30,
   "id": "faa5bd37-768c-4110-9504-41c86edab4e6",
   "metadata": {},
   "outputs": [
    {
     "ename": "OSError",
     "evalue": "exception: access violation writing 0x0000000000000000",
     "output_type": "error",
     "traceback": [
      "\u001b[1;31m---------------------------------------------------------------------------\u001b[0m",
      "\u001b[1;31mOSError\u001b[0m                                   Traceback (most recent call last)",
      "\u001b[1;32m~\\AppData\\Local\\Temp\\ipykernel_7448\\3065429795.py\u001b[0m in \u001b[0;36m<module>\u001b[1;34m\u001b[0m\n\u001b[1;32m----> 1\u001b[1;33m \u001b[0mwheel\u001b[0m\u001b[1;33m.\u001b[0m\u001b[0mGetDirection\u001b[0m\u001b[1;33m(\u001b[0m\u001b[0mID\u001b[0m\u001b[1;33m)\u001b[0m\u001b[1;33m\u001b[0m\u001b[1;33m\u001b[0m\u001b[0m\n\u001b[0m",
      "\u001b[1;32mc:\\users\\ebel\\documents\\github\\python-zwoasi\\zwoasi\\pyzwoefw.py\u001b[0m in \u001b[0;36mGetDirection\u001b[1;34m(self, ID)\u001b[0m\n\u001b[0;32m    182\u001b[0m     \u001b[1;32mdef\u001b[0m \u001b[0mSetDirection\u001b[0m\u001b[1;33m(\u001b[0m\u001b[0mself\u001b[0m\u001b[1;33m,\u001b[0m \u001b[0mID\u001b[0m\u001b[1;33m,\u001b[0m \u001b[0mdirection\u001b[0m\u001b[1;33m)\u001b[0m\u001b[1;33m:\u001b[0m \u001b[1;31m#ok\u001b[0m\u001b[1;33m\u001b[0m\u001b[1;33m\u001b[0m\u001b[0m\n\u001b[0;32m    183\u001b[0m         \u001b[0mr\u001b[0m \u001b[1;33m=\u001b[0m \u001b[0mself\u001b[0m\u001b[1;33m.\u001b[0m\u001b[0mdll\u001b[0m\u001b[1;33m.\u001b[0m\u001b[0mEFWSetDirection\u001b[0m\u001b[1;33m(\u001b[0m\u001b[0mID\u001b[0m\u001b[1;33m,\u001b[0m \u001b[0mdirection\u001b[0m\u001b[1;33m)\u001b[0m\u001b[1;33m\u001b[0m\u001b[1;33m\u001b[0m\u001b[0m\n\u001b[1;32m--> 184\u001b[1;33m         \u001b[1;32mif\u001b[0m \u001b[0mr\u001b[0m\u001b[1;33m:\u001b[0m\u001b[1;33m\u001b[0m\u001b[1;33m\u001b[0m\u001b[0m\n\u001b[0m\u001b[0;32m    185\u001b[0m             \u001b[1;32mif\u001b[0m \u001b[0mself\u001b[0m\u001b[1;33m.\u001b[0m\u001b[0mverbose\u001b[0m\u001b[1;33m:\u001b[0m\u001b[1;33m\u001b[0m\u001b[1;33m\u001b[0m\u001b[0m\n\u001b[0;32m    186\u001b[0m                 \u001b[0mprint\u001b[0m\u001b[1;33m(\u001b[0m\u001b[0mr\u001b[0m\u001b[1;33m)\u001b[0m\u001b[1;33m\u001b[0m\u001b[1;33m\u001b[0m\u001b[0m\n",
      "\u001b[1;31mOSError\u001b[0m: exception: access violation writing 0x0000000000000000"
     ]
    }
   ],
   "source": [
    "wheel.GetDirection(ID)"
   ]
  },
  {
   "cell_type": "code",
   "execution_count": 41,
   "id": "75e5bb7c-2e0a-4332-b2ff-860d647a3a85",
   "metadata": {},
   "outputs": [],
   "source": [
    "wheel.SetDirection(ID, False)"
   ]
  },
  {
   "cell_type": "code",
   "execution_count": 13,
   "id": "1a610815-6317-4a29-998d-f698100a45b2",
   "metadata": {},
   "outputs": [],
   "source": [
    "wheel.SetPosition(ID, 3)"
   ]
  },
  {
   "cell_type": "code",
   "execution_count": 43,
   "id": "f207e651-006f-4b5f-932c-5a8d33c196d5",
   "metadata": {},
   "outputs": [
    {
     "data": {
      "text/plain": [
       "3"
      ]
     },
     "execution_count": 43,
     "metadata": {},
     "output_type": "execute_result"
    }
   ],
   "source": [
    "wheel.GetPosition(ID)"
   ]
  },
  {
   "cell_type": "code",
   "execution_count": 16,
   "id": "b38ec3fe-168b-4c48-bf97-9bd63211a745",
   "metadata": {},
   "outputs": [
    {
     "name": "stdout",
     "output_type": "stream",
     "text": [
      "9\n"
     ]
    },
    {
     "ename": "EFW_IOError",
     "evalue": "End",
     "output_type": "error",
     "traceback": [
      "\u001b[1;31m---------------------------------------------------------------------------\u001b[0m",
      "\u001b[1;31mEFW_IOError\u001b[0m                               Traceback (most recent call last)",
      "\u001b[1;32m~\\AppData\\Local\\Temp\\ipykernel_7448\\4131048736.py\u001b[0m in \u001b[0;36m<module>\u001b[1;34m\u001b[0m\n\u001b[1;32m----> 1\u001b[1;33m \u001b[0mwheel\u001b[0m\u001b[1;33m.\u001b[0m\u001b[0mSetPosition\u001b[0m\u001b[1;33m(\u001b[0m\u001b[0mID\u001b[0m\u001b[1;33m,\u001b[0m \u001b[1;36m0\u001b[0m\u001b[1;33m)\u001b[0m\u001b[1;33m\u001b[0m\u001b[1;33m\u001b[0m\u001b[0m\n\u001b[0m",
      "\u001b[1;32mc:\\users\\ebel\\documents\\github\\python-zwoasi\\zwoasi\\pyzwoefw.py\u001b[0m in \u001b[0;36mSetPosition\u001b[1;34m(self, ID, slot)\u001b[0m\n\u001b[0;32m    173\u001b[0m             \u001b[1;32mif\u001b[0m \u001b[0mself\u001b[0m\u001b[1;33m.\u001b[0m\u001b[0mverbose\u001b[0m\u001b[1;33m:\u001b[0m\u001b[1;33m\u001b[0m\u001b[1;33m\u001b[0m\u001b[0m\n\u001b[0;32m    174\u001b[0m                 \u001b[0mprint\u001b[0m\u001b[1;33m(\u001b[0m\u001b[0mr\u001b[0m\u001b[1;33m)\u001b[0m\u001b[1;33m\u001b[0m\u001b[1;33m\u001b[0m\u001b[0m\n\u001b[1;32m--> 175\u001b[1;33m             \u001b[1;32mraise\u001b[0m \u001b[0mefw_errors\u001b[0m\u001b[1;33m[\u001b[0m\u001b[0mr\u001b[0m\u001b[1;33m]\u001b[0m\u001b[1;33m\u001b[0m\u001b[1;33m\u001b[0m\u001b[0m\n\u001b[0m\u001b[0;32m    176\u001b[0m         \u001b[0minPosition\u001b[0m \u001b[1;33m=\u001b[0m \u001b[1;32mFalse\u001b[0m\u001b[1;33m\u001b[0m\u001b[1;33m\u001b[0m\u001b[0m\n\u001b[0;32m    177\u001b[0m         \u001b[1;32mwhile\u001b[0m \u001b[1;32mnot\u001b[0m \u001b[0minPosition\u001b[0m\u001b[1;33m:\u001b[0m\u001b[1;33m\u001b[0m\u001b[1;33m\u001b[0m\u001b[0m\n",
      "    \u001b[1;31m[... skipping hidden 1 frame]\u001b[0m\n",
      "\u001b[1;32m~\\AppData\\Local\\Temp\\ipykernel_7448\\1383464037.py\u001b[0m in \u001b[0;36m<module>\u001b[1;34m\u001b[0m\n\u001b[1;32m----> 1\u001b[1;33m \u001b[0mwheel\u001b[0m\u001b[1;33m.\u001b[0m\u001b[0mGetPosition\u001b[0m\u001b[1;33m(\u001b[0m\u001b[0mID\u001b[0m\u001b[1;33m)\u001b[0m\u001b[1;33m\u001b[0m\u001b[1;33m\u001b[0m\u001b[0m\n\u001b[0m",
      "\u001b[1;32mc:\\users\\ebel\\documents\\github\\python-zwoasi\\zwoasi\\pyzwoefw.py\u001b[0m in \u001b[0;36mGetPosition\u001b[1;34m(self, ID)\u001b[0m\n\u001b[0;32m    165\u001b[0m             \u001b[1;32mif\u001b[0m \u001b[0mself\u001b[0m\u001b[1;33m.\u001b[0m\u001b[0mverbose\u001b[0m\u001b[1;33m:\u001b[0m\u001b[1;33m\u001b[0m\u001b[1;33m\u001b[0m\u001b[0m\n\u001b[0;32m    166\u001b[0m                 \u001b[0mprint\u001b[0m\u001b[1;33m(\u001b[0m\u001b[0mr\u001b[0m\u001b[1;33m)\u001b[0m\u001b[1;33m\u001b[0m\u001b[1;33m\u001b[0m\u001b[0m\n\u001b[1;32m--> 167\u001b[1;33m             \u001b[1;32mraise\u001b[0m \u001b[0mefw_errors\u001b[0m\u001b[1;33m[\u001b[0m\u001b[0mr\u001b[0m\u001b[1;33m]\u001b[0m\u001b[1;33m\u001b[0m\u001b[1;33m\u001b[0m\u001b[0m\n\u001b[0m\u001b[0;32m    168\u001b[0m         \u001b[1;32mreturn\u001b[0m \u001b[0mslot\u001b[0m\u001b[1;33m.\u001b[0m\u001b[0mvalue\u001b[0m\u001b[1;33m\u001b[0m\u001b[1;33m\u001b[0m\u001b[0m\n\u001b[0;32m    169\u001b[0m \u001b[1;33m\u001b[0m\u001b[0m\n",
      "\u001b[1;31mEFW_IOError\u001b[0m: End"
     ]
    }
   ],
   "source": [
    "wheel.SetPosition(ID, 0)"
   ]
  },
  {
   "cell_type": "code",
   "execution_count": 31,
   "id": "0d2080fc-1110-40f1-85fd-cc77f16f70f2",
   "metadata": {},
   "outputs": [],
   "source": [
    "wheel.SetDirection(ID, True)"
   ]
  },
  {
   "cell_type": "code",
   "execution_count": 32,
   "id": "5a4f0978-ebcd-4bf9-9c5f-a8fd75e6e535",
   "metadata": {},
   "outputs": [],
   "source": [
    "wheel.SetPosition(ID, 0)"
   ]
  },
  {
   "cell_type": "code",
   "execution_count": 33,
   "id": "25a918de-8829-4129-80f7-99461d856833",
   "metadata": {},
   "outputs": [],
   "source": [
    "wheel.SetPosition(ID, 1)"
   ]
  },
  {
   "cell_type": "code",
   "execution_count": 34,
   "id": "654ba6d3-d9ef-46b4-a970-8d5653f52502",
   "metadata": {},
   "outputs": [],
   "source": [
    "wheel.SetPosition(ID, 2)"
   ]
  },
  {
   "cell_type": "code",
   "execution_count": 35,
   "id": "89db6953-558f-4baf-aefe-542bc2132333",
   "metadata": {
    "tags": []
   },
   "outputs": [],
   "source": [
    "wheel.SetPosition(ID, 3)"
   ]
  },
  {
   "cell_type": "code",
   "execution_count": 36,
   "id": "279171fd-1173-441c-b5df-8b725a5b0d86",
   "metadata": {},
   "outputs": [],
   "source": [
    "wheel.SetPosition(ID, 4)"
   ]
  },
  {
   "cell_type": "code",
   "execution_count": 15,
   "id": "3a61f620-3186-404a-ba4e-3c6f2f2726e8",
   "metadata": {},
   "outputs": [
    {
     "name": "stdout",
     "output_type": "stream",
     "text": [
      "9\n"
     ]
    },
    {
     "ename": "EFW_IOError",
     "evalue": "End",
     "output_type": "error",
     "traceback": [
      "\u001b[1;31m---------------------------------------------------------------------------\u001b[0m",
      "\u001b[1;31mEFW_IOError\u001b[0m                               Traceback (most recent call last)",
      "\u001b[1;32m~\\AppData\\Local\\Temp\\ipykernel_7448\\1383464037.py\u001b[0m in \u001b[0;36m<module>\u001b[1;34m\u001b[0m\n\u001b[1;32m----> 1\u001b[1;33m \u001b[0mwheel\u001b[0m\u001b[1;33m.\u001b[0m\u001b[0mGetPosition\u001b[0m\u001b[1;33m(\u001b[0m\u001b[0mID\u001b[0m\u001b[1;33m)\u001b[0m\u001b[1;33m\u001b[0m\u001b[1;33m\u001b[0m\u001b[0m\n\u001b[0m",
      "\u001b[1;32mc:\\users\\ebel\\documents\\github\\python-zwoasi\\zwoasi\\pyzwoefw.py\u001b[0m in \u001b[0;36mGetPosition\u001b[1;34m(self, ID)\u001b[0m\n\u001b[0;32m    165\u001b[0m             \u001b[1;32mif\u001b[0m \u001b[0mself\u001b[0m\u001b[1;33m.\u001b[0m\u001b[0mverbose\u001b[0m\u001b[1;33m:\u001b[0m\u001b[1;33m\u001b[0m\u001b[1;33m\u001b[0m\u001b[0m\n\u001b[0;32m    166\u001b[0m                 \u001b[0mprint\u001b[0m\u001b[1;33m(\u001b[0m\u001b[0mr\u001b[0m\u001b[1;33m)\u001b[0m\u001b[1;33m\u001b[0m\u001b[1;33m\u001b[0m\u001b[0m\n\u001b[1;32m--> 167\u001b[1;33m             \u001b[1;32mraise\u001b[0m \u001b[0mefw_errors\u001b[0m\u001b[1;33m[\u001b[0m\u001b[0mr\u001b[0m\u001b[1;33m]\u001b[0m\u001b[1;33m\u001b[0m\u001b[1;33m\u001b[0m\u001b[0m\n\u001b[0m\u001b[0;32m    168\u001b[0m         \u001b[1;32mreturn\u001b[0m \u001b[0mslot\u001b[0m\u001b[1;33m.\u001b[0m\u001b[0mvalue\u001b[0m\u001b[1;33m\u001b[0m\u001b[1;33m\u001b[0m\u001b[0m\n\u001b[0;32m    169\u001b[0m \u001b[1;33m\u001b[0m\u001b[0m\n",
      "\u001b[1;31mEFW_IOError\u001b[0m: End"
     ]
    }
   ],
   "source": [
    "wheel.GetPosition(ID)"
   ]
  },
  {
   "cell_type": "code",
   "execution_count": 11,
   "id": "c593296d-2a28-47fa-b065-be3b619fec03",
   "metadata": {},
   "outputs": [],
   "source": [
    "wheel.Close(0) #not working "
   ]
  },
  {
   "cell_type": "markdown",
   "id": "d63499d4-da8d-46b9-bf03-45fae2d84c98",
   "metadata": {},
   "source": [
    "# EFW app"
   ]
  },
  {
   "cell_type": "code",
   "execution_count": 1,
   "id": "56483149-f4e2-4397-90f3-49d0e5d0633e",
   "metadata": {},
   "outputs": [],
   "source": [
    "from zwoasi.Pyqt_App import ZwoEFW"
   ]
  },
  {
   "cell_type": "code",
   "execution_count": 2,
   "id": "60ff8fa5-d974-40e1-99dd-0de3b1fe1bd9",
   "metadata": {},
   "outputs": [],
   "source": [
    "ZwoEFW('EFW_filter.dll')"
   ]
  },
  {
   "cell_type": "code",
   "execution_count": null,
   "id": "1012eb03-a243-436e-914f-1c61fe945d9b",
   "metadata": {},
   "outputs": [],
   "source": []
  }
 ],
 "metadata": {
  "hide_input": false,
  "kernelspec": {
   "display_name": "Python 3",
   "language": "python",
   "name": "python3"
  },
  "language_info": {
   "codemirror_mode": {
    "name": "ipython",
    "version": 3
   },
   "file_extension": ".py",
   "mimetype": "text/x-python",
   "name": "python",
   "nbconvert_exporter": "python",
   "pygments_lexer": "ipython3",
   "version": "3.7.10"
  },
  "latex_envs": {
   "LaTeX_envs_menu_present": true,
   "autoclose": false,
   "autocomplete": true,
   "bibliofile": "biblio.bib",
   "cite_by": "apalike",
   "current_citInitial": 1,
   "eqLabelWithNumbers": true,
   "eqNumInitial": 1,
   "hotkeys": {
    "equation": "Ctrl-E",
    "itemize": "Ctrl-I"
   },
   "labels_anchors": false,
   "latex_user_defs": false,
   "report_style_numbering": false,
   "user_envs_cfg": false
  },
  "toc": {
   "base_numbering": 1,
   "nav_menu": {},
   "number_sections": true,
   "sideBar": true,
   "skip_h1_title": false,
   "title_cell": "Table of Contents",
   "title_sidebar": "Contents",
   "toc_cell": false,
   "toc_position": {},
   "toc_section_display": true,
   "toc_window_display": false
  }
 },
 "nbformat": 4,
 "nbformat_minor": 5
}
