{
 "cells": [
  {
   "cell_type": "markdown",
   "id": "mineral-reform",
   "metadata": {},
   "source": [
    "# Controling ZWO cameras with python"
   ]
  },
  {
   "cell_type": "markdown",
   "id": "coordinate-silicon",
   "metadata": {},
   "source": [
    "## Download the ZWO-ASI drivers and SDK \n",
    "\n",
    "Drivers are here [here](https://astronomy-imaging-camera.com/software-drivers) in Windows/from ZWO/native drivers/ASI cameras\n",
    "\n",
    "The SDK is in Developpers/SDK\n",
    "\n",
    "Move the dll in the folder _ASI SDK\\lib\\x64_ (for 64 bits windows) to one of the following path: (in the _anaconda3_ folder for instance)"
   ]
  },
  {
   "cell_type": "code",
   "execution_count": 1,
   "id": "dense-mercury",
   "metadata": {
    "ExecuteTime": {
     "end_time": "2021-04-01T12:57:22.943117Z",
     "start_time": "2021-04-01T12:57:22.930746Z"
    }
   },
   "outputs": [
    {
     "name": "stdout",
     "output_type": "stream",
     "text": [
      "['C:\\\\Users\\\\ebel\\\\ownCloud\\\\LCTS', 'C:\\\\Users\\\\ebel\\\\anaconda3\\\\python37.zip', 'C:\\\\Users\\\\ebel\\\\anaconda3\\\\DLLs', 'C:\\\\Users\\\\ebel\\\\anaconda3\\\\lib', 'C:\\\\Users\\\\ebel\\\\anaconda3', '', 'C:\\\\Users\\\\ebel\\\\anaconda3\\\\lib\\\\site-packages', 'c:\\\\users\\\\ebel\\\\documents\\\\github\\\\campa', 'c:\\\\users\\\\ebel\\\\documents\\\\github\\\\newportespmotion', 'c:\\\\users\\\\ebel\\\\documents\\\\github\\\\imagen', 'c:\\\\users\\\\ebel\\\\documents\\\\github\\\\texnet', 'c:\\\\users\\\\ebel\\\\documents\\\\github\\\\pupp', 'c:\\\\users\\\\ebel\\\\documents\\\\github\\\\pylinkam', 'c:\\\\users\\\\ebel\\\\documents\\\\github\\\\python-zwoasi', 'c:\\\\users\\\\ebel\\\\documents\\\\github\\\\mecatoolbox', 'c:\\\\users\\\\ebel\\\\documents\\\\github\\\\sibc_shcmc', 'c:\\\\users\\\\ebel\\\\documents\\\\github\\\\quanfima', 'c:\\\\users\\\\ebel\\\\documents\\\\github\\\\tomotoolbox', 'C:\\\\Users\\\\ebel\\\\anaconda3\\\\lib\\\\site-packages\\\\locket-0.2.1-py3.7.egg', 'C:\\\\Users\\\\ebel\\\\anaconda3\\\\lib\\\\site-packages\\\\win32', 'C:\\\\Users\\\\ebel\\\\anaconda3\\\\lib\\\\site-packages\\\\win32\\\\lib', 'C:\\\\Users\\\\ebel\\\\anaconda3\\\\lib\\\\site-packages\\\\Pythonwin', 'C:\\\\Users\\\\ebel\\\\anaconda3\\\\lib\\\\site-packages\\\\IPython\\\\extensions', 'C:\\\\Users\\\\ebel\\\\.ipython']\n"
     ]
    }
   ],
   "source": [
    "import sys\n",
    "print(sys.path)"
   ]
  },
  {
   "cell_type": "markdown",
   "id": "ruled-agriculture",
   "metadata": {},
   "source": [
    "## Install the python-zwoasi package\n",
    "\n",
    "Open Anaconda prompt\n",
    "\n",
    "Go to the folder where you downloaded the package file with the command _cd_\n",
    "\n",
    "then type: \n",
    "```\n",
    "pip install zwoasi-2-py2.py3-none-any.whl\n",
    "```"
   ]
  },
  {
   "cell_type": "markdown",
   "id": "behavioral-airport",
   "metadata": {},
   "source": [
    "## Use the package\n",
    "\n",
    "If the dll file from the SDK has been moved to the correct folder, this command should work: "
   ]
  },
  {
   "cell_type": "code",
   "execution_count": 9,
   "id": "nutritional-insured",
   "metadata": {
    "ExecuteTime": {
     "end_time": "2021-05-21T09:28:55.101724Z",
     "start_time": "2021-05-21T09:28:55.093094Z"
    },
    "scrolled": true
   },
   "outputs": [],
   "source": [
    "import zwoasi as asi"
   ]
  },
  {
   "cell_type": "markdown",
   "id": "fossil-berlin",
   "metadata": {},
   "source": [
    "If any camera from ZWO is connected, the following commands give their number and list their names"
   ]
  },
  {
   "cell_type": "code",
   "execution_count": 10,
   "id": "tribal-making",
   "metadata": {
    "ExecuteTime": {
     "end_time": "2021-05-21T09:28:57.051759Z",
     "start_time": "2021-05-21T09:28:56.890619Z"
    },
    "scrolled": true
   },
   "outputs": [
    {
     "name": "stdout",
     "output_type": "stream",
     "text": [
      "1\n",
      "['ZWO ASI1600MM Pro']\n"
     ]
    }
   ],
   "source": [
    "print(asi.get_num_cameras())\n",
    "print(asi.list_cameras())"
   ]
  },
  {
   "cell_type": "markdown",
   "id": "sixth-volume",
   "metadata": {},
   "source": [
    "These commands give us the chip size of the camera and the supported binning mode "
   ]
  },
  {
   "cell_type": "code",
   "execution_count": 11,
   "id": "israeli-currency",
   "metadata": {
    "ExecuteTime": {
     "end_time": "2021-05-21T09:29:01.618200Z",
     "start_time": "2021-05-21T09:28:58.018057Z"
    },
    "scrolled": false
   },
   "outputs": [
    {
     "name": "stdout",
     "output_type": "stream",
     "text": [
      "camera  0\n",
      "MaxWidth:  4656\n",
      "MaxHeight:  3520\n",
      "SupportedBins:  [1, 2, 3, 4]\n"
     ]
    }
   ],
   "source": [
    "for i in range(asi.get_num_cameras()):\n",
    "    print('camera ', i)\n",
    "    print('MaxWidth: ', asi.Camera(i).get_camera_property()['MaxWidth'])\n",
    "    print('MaxHeight: ', asi.Camera(i).get_camera_property()['MaxHeight'])\n",
    "    print('SupportedBins: ', asi.Camera(i).get_camera_property()['SupportedBins'])"
   ]
  },
  {
   "cell_type": "markdown",
   "id": "geographic-equivalent",
   "metadata": {},
   "source": [
    "Check if the cam is a cooled cam"
   ]
  },
  {
   "cell_type": "code",
   "execution_count": 12,
   "id": "bored-carpet",
   "metadata": {
    "ExecuteTime": {
     "end_time": "2021-05-21T09:29:02.817681Z",
     "start_time": "2021-05-21T09:29:01.626305Z"
    }
   },
   "outputs": [
    {
     "name": "stdout",
     "output_type": "stream",
     "text": [
      "camera  0\n",
      "IsCooledCam : True\n"
     ]
    }
   ],
   "source": [
    "for i in range(asi.get_num_cameras()):\n",
    "    print('camera ', i)\n",
    "    print('IsCooledCam :', asi.Camera(i).get_camera_property()['IsCoolerCam'])"
   ]
  },
  {
   "cell_type": "markdown",
   "id": "rural-shipping",
   "metadata": {},
   "source": [
    "Check if the camera are connected with USB3 "
   ]
  },
  {
   "cell_type": "code",
   "execution_count": 13,
   "id": "grateful-creature",
   "metadata": {
    "ExecuteTime": {
     "end_time": "2021-05-21T09:29:05.234958Z",
     "start_time": "2021-05-21T09:29:02.826727Z"
    },
    "scrolled": true
   },
   "outputs": [
    {
     "name": "stdout",
     "output_type": "stream",
     "text": [
      "camera  0\n",
      "IsUSB3Camera : True\n",
      "IsUSB3Host : True\n"
     ]
    }
   ],
   "source": [
    "for i in range(asi.get_num_cameras()):\n",
    "    print('camera ', i)\n",
    "    print('IsUSB3Camera :', asi.Camera(i).get_camera_property()['IsUSB3Camera'])\n",
    "    print('IsUSB3Host :', asi.Camera(i).get_camera_property()['IsUSB3Host'])"
   ]
  },
  {
   "cell_type": "markdown",
   "id": "growing-render",
   "metadata": {},
   "source": [
    "Check if the camera is a triggered cam"
   ]
  },
  {
   "cell_type": "code",
   "execution_count": 14,
   "id": "municipal-lyric",
   "metadata": {
    "ExecuteTime": {
     "end_time": "2021-05-21T09:29:07.623106Z",
     "start_time": "2021-05-21T09:29:05.243470Z"
    }
   },
   "outputs": [
    {
     "name": "stdout",
     "output_type": "stream",
     "text": [
      "camera  0\n",
      "IsTriggerCam : 0\n",
      "Supported modes : {'SupportedCameraMode': [0, -1, 0, 0, 0, 0, 0, 0, 0, 0, 0, 0, 0, 0, 0, 0]}\n"
     ]
    }
   ],
   "source": [
    "for i in range(asi.get_num_cameras()):\n",
    "    print('camera ', i)\n",
    "    print('IsTriggerCam :', asi.Camera(i).get_camera_property()['IsTriggerCam'])\n",
    "    print('Supported modes :', asi.Camera(i).get_camera_support_mode())"
   ]
  },
  {
   "cell_type": "markdown",
   "id": "reliable-powder",
   "metadata": {},
   "source": []
  },
  {
   "cell_type": "markdown",
   "id": "expected-evening",
   "metadata": {},
   "source": [
    "# Single camera test\n",
    "\n",
    "The package comes with built-in user interfaces that can be imported from the _Pyqt_App_ module"
   ]
  },
  {
   "cell_type": "code",
   "execution_count": 1,
   "id": "bottom-generator",
   "metadata": {
    "ExecuteTime": {
     "end_time": "2021-05-25T09:36:08.601233Z",
     "start_time": "2021-05-25T09:36:07.616552Z"
    },
    "scrolled": true
   },
   "outputs": [
    {
     "name": "stdout",
     "output_type": "stream",
     "text": [
      "initialization\n"
     ]
    }
   ],
   "source": [
    "from zwoasi.Pyqt_App import ZwoDisplayAdvanced"
   ]
  },
  {
   "cell_type": "markdown",
   "id": "worldwide-still",
   "metadata": {},
   "source": [
    "For a single camera, _ZwoDisplayAdvanced_ is the best option. \n",
    "\n",
    "Parameters \n",
    "- _cam_id_ is the camera ID, if only one camera is connected it is 0. \n",
    "- _w_ is the width of the recorded image\n",
    "- _h_ the height of the recorded image\n",
    "- _b_ is the binning mode\n",
    "\n",
    "Any width and height larger than possible for a given binning mode will result in the maximum image size for this binning mode. "
   ]
  },
  {
   "cell_type": "code",
   "execution_count": 2,
   "id": "dangerous-dominican",
   "metadata": {
    "ExecuteTime": {
     "end_time": "2021-05-25T09:36:54.920750Z",
     "start_time": "2021-05-25T09:36:08.671204Z"
    }
   },
   "outputs": [
    {
     "name": "stdout",
     "output_type": "stream",
     "text": [
      "saved pressed\n",
      "recording pressed\n"
     ]
    },
    {
     "ename": "ArgumentError",
     "evalue": "argument 1: <class 'TypeError'>: wrong type",
     "output_type": "error",
     "traceback": [
      "\u001b[1;31m---------------------------------------------------------------------------\u001b[0m",
      "\u001b[1;31mArgumentError\u001b[0m                             Traceback (most recent call last)",
      "\u001b[1;32mc:\\users\\ebel\\documents\\github\\python-zwoasi\\zwoasi\\videothread.py\u001b[0m in \u001b[0;36mrun\u001b[1;34m(self)\u001b[0m\n\u001b[0;32m     16\u001b[0m \u001b[1;33m\u001b[0m\u001b[0m\n\u001b[0;32m     17\u001b[0m     \u001b[1;32mdef\u001b[0m \u001b[0mrun\u001b[0m\u001b[1;33m(\u001b[0m\u001b[0mself\u001b[0m\u001b[1;33m)\u001b[0m\u001b[1;33m:\u001b[0m\u001b[1;33m\u001b[0m\u001b[1;33m\u001b[0m\u001b[0m\n\u001b[1;32m---> 18\u001b[1;33m         \u001b[0mself\u001b[0m\u001b[1;33m.\u001b[0m\u001b[0mcamera\u001b[0m\u001b[1;33m.\u001b[0m\u001b[0mstart_video_capture\u001b[0m\u001b[1;33m(\u001b[0m\u001b[1;33m)\u001b[0m\u001b[1;33m\u001b[0m\u001b[1;33m\u001b[0m\u001b[0m\n\u001b[0m\u001b[0;32m     19\u001b[0m         \u001b[1;31m# camera should be initialized before starting the thread\u001b[0m\u001b[1;33m\u001b[0m\u001b[1;33m\u001b[0m\u001b[1;33m\u001b[0m\u001b[0m\n\u001b[0;32m     20\u001b[0m         \u001b[0mt_save\u001b[0m \u001b[1;33m=\u001b[0m \u001b[1;33m-\u001b[0m\u001b[1;36m1e30\u001b[0m\u001b[1;33m\u001b[0m\u001b[1;33m\u001b[0m\u001b[0m\n",
      "\u001b[1;32mc:\\users\\ebel\\documents\\github\\python-zwoasi\\zwoasi\\pyzwoasi.py\u001b[0m in \u001b[0;36mstart_video_capture\u001b[1;34m(self)\u001b[0m\n\u001b[0;32m    362\u001b[0m \u001b[1;33m\u001b[0m\u001b[0m\n\u001b[0;32m    363\u001b[0m         Retrieve video frames with :func:`capture_video_frame()`.\"\"\"\n\u001b[1;32m--> 364\u001b[1;33m         \u001b[1;32mreturn\u001b[0m \u001b[0m_start_video_capture\u001b[0m\u001b[1;33m(\u001b[0m\u001b[0mself\u001b[0m\u001b[1;33m.\u001b[0m\u001b[0mid\u001b[0m\u001b[1;33m)\u001b[0m\u001b[1;33m\u001b[0m\u001b[1;33m\u001b[0m\u001b[0m\n\u001b[0m\u001b[0;32m    365\u001b[0m \u001b[1;33m\u001b[0m\u001b[0m\n\u001b[0;32m    366\u001b[0m \u001b[1;33m\u001b[0m\u001b[0m\n",
      "\u001b[1;32mc:\\users\\ebel\\documents\\github\\python-zwoasi\\zwoasi\\pyzwoasi.py\u001b[0m in \u001b[0;36m_start_video_capture\u001b[1;34m(id_)\u001b[0m\n\u001b[0;32m    665\u001b[0m \u001b[1;33m\u001b[0m\u001b[0m\n\u001b[0;32m    666\u001b[0m \u001b[1;32mdef\u001b[0m \u001b[0m_start_video_capture\u001b[0m\u001b[1;33m(\u001b[0m\u001b[0mid_\u001b[0m\u001b[1;33m)\u001b[0m\u001b[1;33m:\u001b[0m\u001b[1;33m\u001b[0m\u001b[1;33m\u001b[0m\u001b[0m\n\u001b[1;32m--> 667\u001b[1;33m     \u001b[0mr\u001b[0m \u001b[1;33m=\u001b[0m \u001b[0mzwolib\u001b[0m\u001b[1;33m.\u001b[0m\u001b[0mASIStartVideoCapture\u001b[0m\u001b[1;33m(\u001b[0m\u001b[0mid_\u001b[0m\u001b[1;33m)\u001b[0m\u001b[1;33m\u001b[0m\u001b[1;33m\u001b[0m\u001b[0m\n\u001b[0m\u001b[0;32m    668\u001b[0m     \u001b[1;32mif\u001b[0m \u001b[0mr\u001b[0m\u001b[1;33m:\u001b[0m\u001b[1;33m\u001b[0m\u001b[1;33m\u001b[0m\u001b[0m\n\u001b[0;32m    669\u001b[0m         \u001b[1;32mraise\u001b[0m \u001b[0mzwo_errors\u001b[0m\u001b[1;33m[\u001b[0m\u001b[0mr\u001b[0m\u001b[1;33m]\u001b[0m\u001b[1;33m\u001b[0m\u001b[1;33m\u001b[0m\u001b[0m\n",
      "\u001b[1;31mArgumentError\u001b[0m: argument 1: <class 'TypeError'>: wrong type"
     ]
    },
    {
     "name": "stdout",
     "output_type": "stream",
     "text": [
      "recording pressed\n",
      "azdad\n",
      "10\n",
      "saved pressed\n",
      "recording pressed\n",
      "recording ok\n",
      "folder ok\n"
     ]
    },
    {
     "ename": "AttributeError",
     "evalue": "'Camera' object has no attribute 'closed'",
     "output_type": "error",
     "traceback": [
      "\u001b[1;31m---------------------------------------------------------------------------\u001b[0m",
      "\u001b[1;31mAttributeError\u001b[0m                            Traceback (most recent call last)",
      "\u001b[1;32mc:\\users\\ebel\\documents\\github\\python-zwoasi\\zwoasi\\Pyqt_Widget\\DisplayAdvanced.py\u001b[0m in \u001b[0;36mcloseEvent\u001b[1;34m(self, event)\u001b[0m\n\u001b[0;32m    110\u001b[0m             \u001b[0mself\u001b[0m\u001b[1;33m.\u001b[0m\u001b[0mdisplay_thread\u001b[0m\u001b[1;33m.\u001b[0m\u001b[0mstop\u001b[0m\u001b[1;33m(\u001b[0m\u001b[1;33m)\u001b[0m\u001b[1;33m\u001b[0m\u001b[1;33m\u001b[0m\u001b[0m\n\u001b[0;32m    111\u001b[0m             \u001b[0mself\u001b[0m\u001b[1;33m.\u001b[0m\u001b[0mdisplay_thread\u001b[0m\u001b[1;33m.\u001b[0m\u001b[0mcamera\u001b[0m\u001b[1;33m.\u001b[0m\u001b[0mclose\u001b[0m\u001b[1;33m(\u001b[0m\u001b[1;33m)\u001b[0m\u001b[1;33m\u001b[0m\u001b[1;33m\u001b[0m\u001b[0m\n\u001b[1;32m--> 112\u001b[1;33m         \u001b[1;32mif\u001b[0m \u001b[0mself\u001b[0m\u001b[1;33m.\u001b[0m\u001b[0mdisplay_thread\u001b[0m\u001b[1;33m.\u001b[0m\u001b[0mcamera\u001b[0m\u001b[1;33m.\u001b[0m\u001b[0mclosed\u001b[0m\u001b[1;33m:\u001b[0m\u001b[1;33m\u001b[0m\u001b[1;33m\u001b[0m\u001b[0m\n\u001b[0m\u001b[0;32m    113\u001b[0m             \u001b[0mprint\u001b[0m\u001b[1;33m(\u001b[0m\u001b[1;34m'camera closed'\u001b[0m\u001b[1;33m)\u001b[0m\u001b[1;33m\u001b[0m\u001b[1;33m\u001b[0m\u001b[0m\n\u001b[0;32m    114\u001b[0m             \u001b[0mself\u001b[0m\u001b[1;33m.\u001b[0m\u001b[0mclosed\u001b[0m \u001b[1;33m=\u001b[0m \u001b[1;32mTrue\u001b[0m\u001b[1;33m\u001b[0m\u001b[1;33m\u001b[0m\u001b[0m\n",
      "\u001b[1;31mAttributeError\u001b[0m: 'Camera' object has no attribute 'closed'"
     ]
    }
   ],
   "source": [
    "ZwoDisplayAdvanced(cam_id=None, w = 5000,  h= 5000, b = 2 , verbose = True)"
   ]
  },
  {
   "cell_type": "markdown",
   "id": "limited-comfort",
   "metadata": {},
   "source": [
    "# Two cameras test\n",
    "\n",
    "Another user interface from the _Pyqt_App_ module, _ZwoTwoCam_, let the user display two camera at the same time with independant settings for each one. "
   ]
  },
  {
   "cell_type": "code",
   "execution_count": 13,
   "id": "limited-bleeding",
   "metadata": {
    "ExecuteTime": {
     "end_time": "2021-04-01T15:37:52.872771Z",
     "start_time": "2021-04-01T15:37:52.867725Z"
    },
    "scrolled": true
   },
   "outputs": [],
   "source": [
    "from zwoasi.Pyqt_App import ZwoTwoCam"
   ]
  },
  {
   "cell_type": "markdown",
   "id": "engaging-eight",
   "metadata": {},
   "source": [
    "Parameters are the same as previously except for _cam_id_. It is assumed that only two cameras are connected to the computer. \n",
    "\n",
    "Due to limited USB bandwidth, it is possible that one camera suffers from lag and lower framerate in comparison with the first one. "
   ]
  },
  {
   "cell_type": "code",
   "execution_count": 14,
   "id": "animated-andrew",
   "metadata": {
    "ExecuteTime": {
     "end_time": "2021-04-01T15:38:58.458135Z",
     "start_time": "2021-04-01T15:37:54.616119Z"
    }
   },
   "outputs": [
    {
     "name": "stdout",
     "output_type": "stream",
     "text": [
      "trying to close properly\n",
      "stopping camera 1\n",
      "stopping camera 2\n"
     ]
    }
   ],
   "source": [
    "ZwoTwoCam(w= 5000, h = 5000, b = 2)"
   ]
  },
  {
   "cell_type": "code",
   "execution_count": null,
   "id": "alike-lightweight",
   "metadata": {},
   "outputs": [],
   "source": []
  }
 ],
 "metadata": {
  "hide_input": false,
  "kernelspec": {
   "display_name": "Python 3",
   "language": "python",
   "name": "python3"
  },
  "language_info": {
   "codemirror_mode": {
    "name": "ipython",
    "version": 3
   },
   "file_extension": ".py",
   "mimetype": "text/x-python",
   "name": "python",
   "nbconvert_exporter": "python",
   "pygments_lexer": "ipython3",
   "version": "3.7.10"
  },
  "latex_envs": {
   "LaTeX_envs_menu_present": true,
   "autoclose": false,
   "autocomplete": true,
   "bibliofile": "biblio.bib",
   "cite_by": "apalike",
   "current_citInitial": 1,
   "eqLabelWithNumbers": true,
   "eqNumInitial": 1,
   "hotkeys": {
    "equation": "Ctrl-E",
    "itemize": "Ctrl-I"
   },
   "labels_anchors": false,
   "latex_user_defs": false,
   "report_style_numbering": false,
   "user_envs_cfg": false
  },
  "toc": {
   "base_numbering": 1,
   "nav_menu": {},
   "number_sections": true,
   "sideBar": true,
   "skip_h1_title": false,
   "title_cell": "Table of Contents",
   "title_sidebar": "Contents",
   "toc_cell": false,
   "toc_position": {},
   "toc_section_display": true,
   "toc_window_display": false
  }
 },
 "nbformat": 4,
 "nbformat_minor": 5
}
