{
 "cells": [
  {
   "cell_type": "markdown",
   "id": "nominated-massage",
   "metadata": {},
   "source": [
    "# Controling ZWO cameras with python"
   ]
  },
  {
   "cell_type": "markdown",
   "id": "cordless-shade",
   "metadata": {},
   "source": [
    "## Download the ZWO-ASI drivers and SDK \n",
    "\n",
    "Drivers are here [here](https://astronomy-imaging-camera.com/software-drivers) in Windows/from ZWO/native drivers/ASI cameras\n",
    "\n",
    "The SDK is in Developpers/SDK\n",
    "\n",
    "Move the dll in the folder _ASI SDK\\lib\\x64_ (for 64 bits windows) to one of the following path: (in the _anaconda3_ folder for instance)"
   ]
  },
  {
   "cell_type": "code",
   "execution_count": 1,
   "id": "australian-discharge",
   "metadata": {
    "ExecuteTime": {
     "end_time": "2021-04-01T12:57:22.943117Z",
     "start_time": "2021-04-01T12:57:22.930746Z"
    }
   },
   "outputs": [
    {
     "name": "stdout",
     "output_type": "stream",
     "text": [
      "['C:\\\\Users\\\\ebel\\\\ownCloud\\\\LCTS', 'C:\\\\Users\\\\ebel\\\\anaconda3\\\\python37.zip', 'C:\\\\Users\\\\ebel\\\\anaconda3\\\\DLLs', 'C:\\\\Users\\\\ebel\\\\anaconda3\\\\lib', 'C:\\\\Users\\\\ebel\\\\anaconda3', '', 'C:\\\\Users\\\\ebel\\\\anaconda3\\\\lib\\\\site-packages', 'c:\\\\users\\\\ebel\\\\documents\\\\github\\\\campa', 'c:\\\\users\\\\ebel\\\\documents\\\\github\\\\newportespmotion', 'c:\\\\users\\\\ebel\\\\documents\\\\github\\\\imagen', 'c:\\\\users\\\\ebel\\\\documents\\\\github\\\\texnet', 'c:\\\\users\\\\ebel\\\\documents\\\\github\\\\pupp', 'c:\\\\users\\\\ebel\\\\documents\\\\github\\\\pylinkam', 'c:\\\\users\\\\ebel\\\\documents\\\\github\\\\python-zwoasi', 'c:\\\\users\\\\ebel\\\\documents\\\\github\\\\mecatoolbox', 'c:\\\\users\\\\ebel\\\\documents\\\\github\\\\sibc_shcmc', 'c:\\\\users\\\\ebel\\\\documents\\\\github\\\\quanfima', 'c:\\\\users\\\\ebel\\\\documents\\\\github\\\\tomotoolbox', 'C:\\\\Users\\\\ebel\\\\anaconda3\\\\lib\\\\site-packages\\\\locket-0.2.1-py3.7.egg', 'C:\\\\Users\\\\ebel\\\\anaconda3\\\\lib\\\\site-packages\\\\win32', 'C:\\\\Users\\\\ebel\\\\anaconda3\\\\lib\\\\site-packages\\\\win32\\\\lib', 'C:\\\\Users\\\\ebel\\\\anaconda3\\\\lib\\\\site-packages\\\\Pythonwin', 'C:\\\\Users\\\\ebel\\\\anaconda3\\\\lib\\\\site-packages\\\\IPython\\\\extensions', 'C:\\\\Users\\\\ebel\\\\.ipython']\n"
     ]
    }
   ],
   "source": [
    "import sys\n",
    "print(sys.path)"
   ]
  },
  {
   "cell_type": "markdown",
   "id": "fluid-cause",
   "metadata": {},
   "source": [
    "## Install the python-zwoasi package\n",
    "\n",
    "Open Anaconda prompt\n",
    "\n",
    "Go to the folder where you downloaded the package file with the command _cd_\n",
    "\n",
    "then type: \n",
    "```\n",
    "pip install zwoasi-2-py2.py3-none-any.whl\n",
    "```"
   ]
  },
  {
   "cell_type": "markdown",
   "id": "available-continuity",
   "metadata": {},
   "source": [
    "## Use the package\n",
    "\n",
    "If the dll file from the SDK has been moved to the correct folder, this command should work: "
   ]
  },
  {
   "cell_type": "code",
   "execution_count": 3,
   "id": "danish-onion",
   "metadata": {
    "ExecuteTime": {
     "end_time": "2021-04-01T15:35:22.678184Z",
     "start_time": "2021-04-01T15:35:22.670420Z"
    },
    "scrolled": true
   },
   "outputs": [],
   "source": [
    "import zwoasi as asi"
   ]
  },
  {
   "cell_type": "markdown",
   "id": "ambient-aviation",
   "metadata": {},
   "source": [
    "If any camera from ZWO is connected, the following commands give their number and list their names"
   ]
  },
  {
   "cell_type": "code",
   "execution_count": 4,
   "id": "agricultural-assembly",
   "metadata": {
    "ExecuteTime": {
     "end_time": "2021-04-01T15:35:25.934262Z",
     "start_time": "2021-04-01T15:35:25.613938Z"
    },
    "scrolled": true
   },
   "outputs": [
    {
     "name": "stdout",
     "output_type": "stream",
     "text": [
      "2\n",
      "['ZWO ASI1600MM Pro', 'ZWO ASI1600MM Pro(3)']\n"
     ]
    }
   ],
   "source": [
    "print(asi.get_num_cameras())\n",
    "print(asi.list_cameras())"
   ]
  },
  {
   "cell_type": "markdown",
   "id": "arranged-prime",
   "metadata": {},
   "source": [
    "These commands give us the chip size of the camera and the supported binning mode "
   ]
  },
  {
   "cell_type": "code",
   "execution_count": 12,
   "id": "smoking-casino",
   "metadata": {
    "ExecuteTime": {
     "end_time": "2021-04-01T15:37:46.110194Z",
     "start_time": "2021-04-01T15:37:39.017315Z"
    },
    "scrolled": true
   },
   "outputs": [
    {
     "name": "stdout",
     "output_type": "stream",
     "text": [
      "camera  0\n",
      "MaxWidth:  4656\n",
      "MaxHeight:  3520\n",
      "SupportedBins:  [1, 2, 3, 4]\n",
      "camera  1\n",
      "MaxWidth:  4656\n",
      "MaxHeight:  3520\n",
      "SupportedBins:  [1, 2, 3, 4]\n"
     ]
    }
   ],
   "source": [
    "for i in range(asi.get_num_cameras()):\n",
    "    print('camera ', i)\n",
    "    print('MaxWidth: ', asi.Camera(i).get_camera_property()['MaxWidth'])\n",
    "    print('MaxHeight: ', asi.Camera(i).get_camera_property()['MaxHeight'])\n",
    "    print('SupportedBins: ', asi.Camera(i).get_camera_property()['SupportedBins'])"
   ]
  },
  {
   "cell_type": "markdown",
   "id": "alike-plenty",
   "metadata": {},
   "source": [
    "Check if the camera are connected with USB3 "
   ]
  },
  {
   "cell_type": "code",
   "execution_count": 11,
   "id": "greenhouse-victoria",
   "metadata": {
    "ExecuteTime": {
     "end_time": "2021-04-01T15:37:11.082021Z",
     "start_time": "2021-04-01T15:37:08.559865Z"
    }
   },
   "outputs": [
    {
     "name": "stdout",
     "output_type": "stream",
     "text": [
      "camera  0\n",
      "IsUSB3Camera : True\n",
      "camera  1\n",
      "IsUSB3Camera : True\n"
     ]
    }
   ],
   "source": [
    "for i in range(asi.get_num_cameras()):\n",
    "    print('camera ', i)\n",
    "    print('IsUSB3Camera :', asi.Camera(i).get_camera_property()['IsUSB3Camera'])"
   ]
  },
  {
   "cell_type": "markdown",
   "id": "placed-ceiling",
   "metadata": {},
   "source": [
    "# Single camera test\n",
    "\n",
    "The package comes with built-in user interfaces that can be imported from the _Pyqt_App_ module"
   ]
  },
  {
   "cell_type": "code",
   "execution_count": 1,
   "id": "angry-cathedral",
   "metadata": {
    "ExecuteTime": {
     "end_time": "2021-04-01T15:33:24.166122Z",
     "start_time": "2021-04-01T15:33:23.291134Z"
    },
    "scrolled": true
   },
   "outputs": [
    {
     "name": "stdout",
     "output_type": "stream",
     "text": [
      "initialization\n"
     ]
    }
   ],
   "source": [
    "from zwoasi.Pyqt_App import ZwoDisplayAdvanced"
   ]
  },
  {
   "cell_type": "markdown",
   "id": "north-harassment",
   "metadata": {},
   "source": [
    "For a single camera, _ZwoDisplayAdvanced_ is the best option. \n",
    "\n",
    "Parameters \n",
    "- _cam_id_ is the camera ID, if only one camera is connected it is 0. \n",
    "- _w_ is the width of the recorded image\n",
    "- _h_ the height of the recorded image\n",
    "- _b_ is the binning mode\n",
    "\n",
    "Any width and height larger than possible for a given binning mode will result in the maximum image size for this binning mode. "
   ]
  },
  {
   "cell_type": "code",
   "execution_count": 2,
   "id": "extreme-nigeria",
   "metadata": {
    "ExecuteTime": {
     "end_time": "2021-04-01T15:33:44.244581Z",
     "start_time": "2021-04-01T15:33:24.875804Z"
    }
   },
   "outputs": [
    {
     "name": "stdout",
     "output_type": "stream",
     "text": [
      "camera closed\n"
     ]
    }
   ],
   "source": [
    "ZwoDisplayAdvanced(cam_id=0, w = 5000,  h= 5000, b = 2 )"
   ]
  },
  {
   "cell_type": "markdown",
   "id": "rental-onion",
   "metadata": {},
   "source": [
    "# Two cameras test\n",
    "\n",
    "Another user interface from the _Pyqt_App_ module, _ZwoTwoCam_, let the user display two camera at the same time with independant settings for each one. "
   ]
  },
  {
   "cell_type": "code",
   "execution_count": 13,
   "id": "overall-thursday",
   "metadata": {
    "ExecuteTime": {
     "end_time": "2021-04-01T15:37:52.872771Z",
     "start_time": "2021-04-01T15:37:52.867725Z"
    },
    "scrolled": true
   },
   "outputs": [],
   "source": [
    "from zwoasi.Pyqt_App import ZwoTwoCam"
   ]
  },
  {
   "cell_type": "markdown",
   "id": "small-hostel",
   "metadata": {},
   "source": [
    "Parameters are the same as previously except for _cam_id_. It is assumed that only two cameras are connected to the computer. \n",
    "\n",
    "Due to limited USB bandwidth, it is possible that one camera suffers from lag and lower framerate in comparison with the first one. "
   ]
  },
  {
   "cell_type": "code",
   "execution_count": 14,
   "id": "lasting-realtor",
   "metadata": {
    "ExecuteTime": {
     "end_time": "2021-04-01T15:38:58.458135Z",
     "start_time": "2021-04-01T15:37:54.616119Z"
    }
   },
   "outputs": [
    {
     "name": "stdout",
     "output_type": "stream",
     "text": [
      "trying to close properly\n",
      "stopping camera 1\n",
      "stopping camera 2\n"
     ]
    }
   ],
   "source": [
    "ZwoTwoCam(w= 5000, h = 5000, b = 2)"
   ]
  },
  {
   "cell_type": "code",
   "execution_count": null,
   "id": "burning-forum",
   "metadata": {},
   "outputs": [],
   "source": []
  }
 ],
 "metadata": {
  "hide_input": false,
  "kernelspec": {
   "display_name": "Python 3",
   "language": "python",
   "name": "python3"
  },
  "language_info": {
   "codemirror_mode": {
    "name": "ipython",
    "version": 3
   },
   "file_extension": ".py",
   "mimetype": "text/x-python",
   "name": "python",
   "nbconvert_exporter": "python",
   "pygments_lexer": "ipython3",
   "version": "3.7.10"
  },
  "latex_envs": {
   "LaTeX_envs_menu_present": true,
   "autoclose": false,
   "autocomplete": true,
   "bibliofile": "biblio.bib",
   "cite_by": "apalike",
   "current_citInitial": 1,
   "eqLabelWithNumbers": true,
   "eqNumInitial": 1,
   "hotkeys": {
    "equation": "Ctrl-E",
    "itemize": "Ctrl-I"
   },
   "labels_anchors": false,
   "latex_user_defs": false,
   "report_style_numbering": false,
   "user_envs_cfg": false
  },
  "toc": {
   "base_numbering": 1,
   "nav_menu": {},
   "number_sections": true,
   "sideBar": true,
   "skip_h1_title": false,
   "title_cell": "Table of Contents",
   "title_sidebar": "Contents",
   "toc_cell": false,
   "toc_position": {},
   "toc_section_display": true,
   "toc_window_display": false
  }
 },
 "nbformat": 4,
 "nbformat_minor": 5
}
